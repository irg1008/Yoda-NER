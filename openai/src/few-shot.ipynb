{
 "cells": [
  {
   "cell_type": "code",
   "execution_count": 50,
   "metadata": {},
   "outputs": [],
   "source": [
    "import openai"
   ]
  },
  {
   "cell_type": "code",
   "execution_count": 51,
   "metadata": {},
   "outputs": [],
   "source": [
    "base = \"\"\"\n",
    "Extrae colores, tallas y unidades si hay de las siguientes oraciones:\n",
    "\n",
    "Oración: Tengo un coche rojo y azul con un tejado de 4x4 metros\n",
    "Colores: rojo, azul -Tallas: 4x4 - Unidades: metros\n",
    "###\n",
    "Oración: Apple Watch Series 7 (GPS) - Caja de Aluminio (Product) Red de 41 mm - Correa Deportiva (Product) Red - Talla única\n",
    "Colores: rojo - Tallas: 41 -Unidades: mm\n",
    "###\n",
    "Oración: Quiero pintar mi casa con colores llamativos como por ejemplo amarillo claro y azul turquesa. La pared será de 3 metros\n",
    "Colores: amarillo claro, azul turquesa - Tallas: 3 - Unidades: metros\n",
    "###\n",
    "Oración: Me gustan los lapices de varios colores con punta fina\n",
    "Colores: nulo - Tallas: nulo - Unidades: nulo\n",
    "###\n",
    "Oración: Fui al parque con mi coche de 5 metros de largo\n",
    "Colores: nulo - Tallas: 5 - Unidades: metros\n",
    "###\n",
    "\"\"\"\n"
   ]
  },
  {
   "cell_type": "code",
   "execution_count": 52,
   "metadata": {},
   "outputs": [],
   "source": [
    "base_prompt = base + \"\\n\" + \"Oración: \"\n"
   ]
  },
  {
   "cell_type": "code",
   "execution_count": 55,
   "metadata": {},
   "outputs": [],
   "source": [
    "prompt = base_prompt + \"\"\"\n",
    "Apple Watch Series 7 (GPS) - Caja de Aluminio (Product) yellow de 41 mm - Correa Deportiva (Product) yellow - Talla única\n",
    "\"\"\""
   ]
  },
  {
   "cell_type": "code",
   "execution_count": 63,
   "metadata": {},
   "outputs": [
    {
     "data": {
      "text/plain": [
       "<OpenAIObject text_completion id=cmpl-5ud8anuEl0bpFpSH6hAp3JPp9hFNB at 0x1874d2c6ef0> JSON: {\n",
       "  \"choices\": [\n",
       "    {\n",
       "      \"finish_reason\": \"stop\",\n",
       "      \"index\": 0,\n",
       "      \"logprobs\": null,\n",
       "      \"text\": \"Colores: nulo - Tallas: 41 - Unidades: mm\\n\"\n",
       "    }\n",
       "  ],\n",
       "  \"created\": 1664178496,\n",
       "  \"id\": \"cmpl-5ud8anuEl0bpFpSH6hAp3JPp9hFNB\",\n",
       "  \"model\": \"babbage\",\n",
       "  \"object\": \"text_completion\",\n",
       "  \"usage\": {\n",
       "    \"completion_tokens\": 17,\n",
       "    \"prompt_tokens\": 349,\n",
       "    \"total_tokens\": 366\n",
       "  }\n",
       "}"
      ]
     },
     "execution_count": 63,
     "metadata": {},
     "output_type": "execute_result"
    }
   ],
   "source": [
    "from multiprocessing.resource_sharer import stop\n",
    "\n",
    "\n",
    "openai.Completion.create(\n",
    "    model=\"babbage\",\n",
    "    prompt=prompt,\n",
    "    temperature=0.1,\n",
    "    max_tokens=100,\n",
    "    stop=[\"###\"],\n",
    ")\n"
   ]
  }
 ],
 "metadata": {
  "kernelspec": {
   "display_name": "Python 3.9.8 64-bit",
   "language": "python",
   "name": "python3"
  },
  "language_info": {
   "codemirror_mode": {
    "name": "ipython",
    "version": 3
   },
   "file_extension": ".py",
   "mimetype": "text/x-python",
   "name": "python",
   "nbconvert_exporter": "python",
   "pygments_lexer": "ipython3",
   "version": "3.9.8"
  },
  "orig_nbformat": 4,
  "vscode": {
   "interpreter": {
    "hash": "fefe1bf480c11bf003fba226430f9cc6591c2a11b0f80c22005b6e46c2183a03"
   }
  }
 },
 "nbformat": 4,
 "nbformat_minor": 2
}
