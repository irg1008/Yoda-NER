{
 "cells": [
  {
   "cell_type": "code",
   "execution_count": 1,
   "metadata": {},
   "outputs": [],
   "source": [
    "import openai"
   ]
  },
  {
   "cell_type": "code",
   "execution_count": 2,
   "metadata": {},
   "outputs": [],
   "source": [
    "data_path = \"../data/corpus.jsonl\"\n"
   ]
  },
  {
   "cell_type": "code",
   "execution_count": 3,
   "metadata": {},
   "outputs": [],
   "source": [
    "# !openai tools fine_tunes.prepare_data -f {data_path} -q"
   ]
  },
  {
   "cell_type": "code",
   "execution_count": 4,
   "metadata": {},
   "outputs": [],
   "source": [
    "# !openai api fine_tunes.create -t \"../data/corpus_prepared.jsonl\" --compute_classification_metrics"
   ]
  },
  {
   "cell_type": "code",
   "execution_count": 5,
   "metadata": {},
   "outputs": [],
   "source": [
    "id = \"ft-gmsgZzpjWrWIt7uFKmIK96dU\"\n"
   ]
  },
  {
   "cell_type": "code",
   "execution_count": 6,
   "metadata": {},
   "outputs": [
    {
     "name": "stdout",
     "output_type": "stream",
     "text": [
      "[2022-09-17 13:22:47] Created fine-tune: ft-gmsgZzpjWrWIt7uFKmIK96dU\n",
      "[2022-09-17 13:22:56] Fine-tune costs $0.62\n",
      "[2022-09-17 13:22:56] Fine-tune enqueued. Queue number: 0\n",
      "[2022-09-17 13:22:57] Fine-tune started\n",
      "[2022-09-17 13:32:09] Completed epoch 1/4\n",
      "[2022-09-17 13:40:28] Completed epoch 2/4\n",
      "[2022-09-17 13:48:49] Completed epoch 3/4\n",
      "[2022-09-17 13:57:07] Completed epoch 4/4\n",
      "[2022-09-17 13:57:31] Uploaded model: curie:ft-lighthouse-feed-2022-09-17-11-57-31\n",
      "[2022-09-17 13:57:32] Uploaded result file: file-LiLWeobvyirrQDMBJEJJTKCB\n",
      "[2022-09-17 13:57:32] Fine-tune succeeded\n",
      "\n",
      "Job complete! Status: succeeded 🎉\n",
      "Try out your fine-tuned model:\n",
      "\n",
      "openai api completions.create -m curie:ft-lighthouse-feed-2022-09-17-11-57-31 -p <YOUR_PROMPT>\n"
     ]
    }
   ],
   "source": [
    "!openai api fine_tunes.follow -i {id}"
   ]
  },
  {
   "cell_type": "code",
   "execution_count": 7,
   "metadata": {},
   "outputs": [],
   "source": [
    "!openai api fine_tunes.results -i {id} > result.csv"
   ]
  },
  {
   "cell_type": "code",
   "execution_count": 8,
   "metadata": {},
   "outputs": [],
   "source": [
    "import pandas as pd"
   ]
  },
  {
   "cell_type": "code",
   "execution_count": 9,
   "metadata": {},
   "outputs": [],
   "source": [
    "results = pd.read_csv('result.csv')\n"
   ]
  },
  {
   "cell_type": "code",
   "execution_count": 10,
   "metadata": {},
   "outputs": [],
   "source": [
    "ft_model = 'curie:ft-lighthouse-feed-2022-09-17-11-57-31'"
   ]
  },
  {
   "cell_type": "code",
   "execution_count": 11,
   "metadata": {},
   "outputs": [],
   "source": [
    "prompt = \"Collar de perro grande XL rojo y negro con verde\""
   ]
  },
  {
   "cell_type": "code",
   "execution_count": 12,
   "metadata": {},
   "outputs": [],
   "source": [
    "from multiprocessing.resource_sharer import stop\n",
    "\n",
    "\n",
    "res = openai.Completion.create(\n",
    "    model=ft_model, prompt=prompt + \" ->\", max_tokens=20, temperature=0, stop=\" END\"\n",
    ")\n"
   ]
  },
  {
   "cell_type": "code",
   "execution_count": 13,
   "metadata": {},
   "outputs": [
    {
     "data": {
      "text/plain": [
       "' rojo y negro con verde\\nXL'"
      ]
     },
     "execution_count": 13,
     "metadata": {},
     "output_type": "execute_result"
    }
   ],
   "source": [
    "res[\"choices\"][0][\"text\"]\n"
   ]
  }
 ],
 "metadata": {
  "kernelspec": {
   "display_name": "Python 3.9.8 64-bit",
   "language": "python",
   "name": "python3"
  },
  "language_info": {
   "codemirror_mode": {
    "name": "ipython",
    "version": 3
   },
   "file_extension": ".py",
   "mimetype": "text/x-python",
   "name": "python",
   "nbconvert_exporter": "python",
   "pygments_lexer": "ipython3",
   "version": "3.9.8"
  },
  "orig_nbformat": 4,
  "vscode": {
   "interpreter": {
    "hash": "fefe1bf480c11bf003fba226430f9cc6591c2a11b0f80c22005b6e46c2183a03"
   }
  }
 },
 "nbformat": 4,
 "nbformat_minor": 2
}
